{
 "cells": [
  {
   "cell_type": "code",
   "execution_count": 1,
   "id": "08584f1c-647e-4b86-8f7e-8ed8aabf425c",
   "metadata": {},
   "outputs": [
    {
     "name": "stderr",
     "output_type": "stream",
     "text": [
      "/var/folders/p3/1mlnmr7563b2lsdz5xhg4k7w0000gn/T/ipykernel_63726/2259559121.py:3: ParserWarning: Falling back to the 'python' engine because the 'c' engine does not support regex separators (separators > 1 char and different from '\\s+' are interpreted as regex); you can avoid this warning by specifying engine='python'.\n",
      "  df = pd.read_csv('proj2_data.csv', sep=';|\\|', decimal=\",\")\n"
     ]
    }
   ],
   "source": [
    "import pandas as pd\n",
    "\n",
    "df = pd.read_csv('proj2_data.csv', sep=';|\\|', decimal=\",\")"
   ]
  },
  {
   "cell_type": "code",
   "execution_count": 2,
   "id": "d81bf71a-f275-41eb-a0a2-bad87bd74c9e",
   "metadata": {},
   "outputs": [],
   "source": [
    "import pickle\n",
    "with open('proj2_ex01.pkl', 'wb') as df_pickle:\n",
    "    pickle.dump(df, df_pickle)"
   ]
  },
  {
   "cell_type": "code",
   "execution_count": 3,
   "id": "bbddee10-59b1-4d23-97ba-89781f4df6f7",
   "metadata": {},
   "outputs": [],
   "source": [
    "grades = pd.read_csv('proj2_scale.txt', header=None)\n",
    "grades.index = grades.index + 1\n",
    "grades = grades.to_dict()[0]"
   ]
  },
  {
   "cell_type": "code",
   "execution_count": 4,
   "id": "3857af24-600c-43cf-be13-3d0ef5342d36",
   "metadata": {},
   "outputs": [
    {
     "data": {
      "text/plain": [
       "{'niedostateczny': 1,\n",
       " 'mierny': 2,\n",
       " 'dostateczny': 3,\n",
       " 'dobry': 4,\n",
       " 'bardzo dobry': 5}"
      ]
     },
     "execution_count": 4,
     "metadata": {},
     "output_type": "execute_result"
    }
   ],
   "source": [
    "inv_grades = {v: k for k, v in grades.items()}\n",
    "inv_grades"
   ]
  },
  {
   "cell_type": "code",
   "execution_count": 5,
   "id": "91d702b9-8770-4bb2-8f8c-aa75a5443cdc",
   "metadata": {},
   "outputs": [],
   "source": [
    "df_scaled = df.copy()"
   ]
  },
  {
   "cell_type": "code",
   "execution_count": 6,
   "id": "591d40a7-45b2-4615-bbd8-9d2c35046344",
   "metadata": {},
   "outputs": [],
   "source": [
    "df_scaled['task_grade'].replace(inv_grades, inplace=True)\n",
    "df_scaled['final_grade'].replace(inv_grades, inplace=True)"
   ]
  },
  {
   "cell_type": "code",
   "execution_count": 7,
   "id": "5bb661cf-0522-4d27-a879-d15db378ab4e",
   "metadata": {},
   "outputs": [],
   "source": [
    "with open('proj2_ex02.pkl', 'wb') as df_scaled_pickle:\n",
    "    pickle.dump(df_scaled, df_scaled_pickle)"
   ]
  },
  {
   "cell_type": "code",
   "execution_count": 8,
   "id": "cd7039de-ba6c-4212-a70b-f7ec41b3f066",
   "metadata": {},
   "outputs": [],
   "source": [
    "df_categories = df.copy()"
   ]
  },
  {
   "cell_type": "code",
   "execution_count": 9,
   "id": "fd80fbde-9997-4cc6-a641-4a399bc0ffcb",
   "metadata": {},
   "outputs": [],
   "source": [
    "with open('proj2_scale.txt', 'r') as scale:\n",
    "    categories_list = [line.rstrip() for line in scale]"
   ]
  },
  {
   "cell_type": "code",
   "execution_count": 10,
   "id": "638d7d13-d5ff-4207-b304-89d44f43cdf9",
   "metadata": {},
   "outputs": [],
   "source": [
    "df_categories['task_grade'] = df_categories['task_grade'].astype('category')\n",
    "df_categories['final_grade'] = df_categories['final_grade'].astype('category')\n",
    "df_categories['task_grade'] = df_categories['task_grade'].cat.set_categories(categories_list)\n",
    "df_categories['final_grade'] = df_categories['final_grade'].cat.set_categories(categories_list)"
   ]
  },
  {
   "cell_type": "code",
   "execution_count": 11,
   "id": "a8234bfa-04e7-4423-b9d4-2086851b1dd9",
   "metadata": {},
   "outputs": [],
   "source": [
    "with open('proj2_ex03.pkl', 'wb') as df_categories_pickle:\n",
    "    pickle.dump(df_categories, df_categories_pickle)"
   ]
  },
  {
   "cell_type": "code",
   "execution_count": 12,
   "id": "31844499-bc5b-4fd9-b7a1-a37c82d4fff2",
   "metadata": {},
   "outputs": [
    {
     "data": {
      "text/html": [
       "<div>\n",
       "<style scoped>\n",
       "    .dataframe tbody tr th:only-of-type {\n",
       "        vertical-align: middle;\n",
       "    }\n",
       "\n",
       "    .dataframe tbody tr th {\n",
       "        vertical-align: top;\n",
       "    }\n",
       "\n",
       "    .dataframe thead th {\n",
       "        text-align: right;\n",
       "    }\n",
       "</style>\n",
       "<table border=\"1\" class=\"dataframe\">\n",
       "  <thead>\n",
       "    <tr style=\"text-align: right;\">\n",
       "      <th></th>\n",
       "      <th>full_name</th>\n",
       "      <th>field</th>\n",
       "      <th>language</th>\n",
       "      <th>code</th>\n",
       "      <th>task_grade</th>\n",
       "      <th>jury_score</th>\n",
       "      <th>final_grade</th>\n",
       "    </tr>\n",
       "  </thead>\n",
       "  <tbody>\n",
       "    <tr>\n",
       "      <th>0</th>\n",
       "      <td>Rowan Harrington</td>\n",
       "      <td>drones</td>\n",
       "      <td>python</td>\n",
       "      <td>wej</td>\n",
       "      <td>dostateczny</td>\n",
       "      <td>3,5 pts</td>\n",
       "      <td>dostateczny</td>\n",
       "    </tr>\n",
       "    <tr>\n",
       "      <th>1</th>\n",
       "      <td>Nash Wyatt</td>\n",
       "      <td>racing</td>\n",
       "      <td>java</td>\n",
       "      <td>sfe</td>\n",
       "      <td>bardzo dobry</td>\n",
       "      <td>5 p</td>\n",
       "      <td>mierny</td>\n",
       "    </tr>\n",
       "    <tr>\n",
       "      <th>2</th>\n",
       "      <td>Jadiel Ramirez</td>\n",
       "      <td>media</td>\n",
       "      <td>cplusplus</td>\n",
       "      <td>vaw</td>\n",
       "      <td>dobry</td>\n",
       "      <td>3.5</td>\n",
       "      <td>mierny</td>\n",
       "    </tr>\n",
       "    <tr>\n",
       "      <th>3</th>\n",
       "      <td>Makaila Atkins</td>\n",
       "      <td>racing</td>\n",
       "      <td>swift</td>\n",
       "      <td>ugt</td>\n",
       "      <td>dobry</td>\n",
       "      <td>2</td>\n",
       "      <td>dostateczny</td>\n",
       "    </tr>\n",
       "    <tr>\n",
       "      <th>4</th>\n",
       "      <td>Melanie Fuller</td>\n",
       "      <td>racing</td>\n",
       "      <td>python</td>\n",
       "      <td>owb</td>\n",
       "      <td>bardzo dobry</td>\n",
       "      <td>pts 2</td>\n",
       "      <td>mierny</td>\n",
       "    </tr>\n",
       "    <tr>\n",
       "      <th>5</th>\n",
       "      <td>Layla Woodard</td>\n",
       "      <td>drones</td>\n",
       "      <td>python</td>\n",
       "      <td>wuf</td>\n",
       "      <td>bardzo dobry</td>\n",
       "      <td>3,5p</td>\n",
       "      <td>dostateczny</td>\n",
       "    </tr>\n",
       "    <tr>\n",
       "      <th>6</th>\n",
       "      <td>Edwin Hale</td>\n",
       "      <td>media</td>\n",
       "      <td>swift</td>\n",
       "      <td>ceq</td>\n",
       "      <td>dostateczny</td>\n",
       "      <td>-1 (dnf)</td>\n",
       "      <td>niedostateczny</td>\n",
       "    </tr>\n",
       "    <tr>\n",
       "      <th>7</th>\n",
       "      <td>Travis Rocha</td>\n",
       "      <td>robotics</td>\n",
       "      <td>cplusplus</td>\n",
       "      <td>eir</td>\n",
       "      <td>dostateczny</td>\n",
       "      <td>0</td>\n",
       "      <td>niedostateczny</td>\n",
       "    </tr>\n",
       "    <tr>\n",
       "      <th>8</th>\n",
       "      <td>Ricky Howell</td>\n",
       "      <td>media</td>\n",
       "      <td>java</td>\n",
       "      <td>vos</td>\n",
       "      <td>dobry</td>\n",
       "      <td>waiting</td>\n",
       "      <td>niedostateczny</td>\n",
       "    </tr>\n",
       "    <tr>\n",
       "      <th>9</th>\n",
       "      <td>Addyson Brennan</td>\n",
       "      <td>drones</td>\n",
       "      <td>java</td>\n",
       "      <td>cov</td>\n",
       "      <td>bardzo dobry</td>\n",
       "      <td>-</td>\n",
       "      <td>niedostateczny</td>\n",
       "    </tr>\n",
       "    <tr>\n",
       "      <th>10</th>\n",
       "      <td>Megan Barker</td>\n",
       "      <td>drones</td>\n",
       "      <td>swift</td>\n",
       "      <td>oqq</td>\n",
       "      <td>dostateczny</td>\n",
       "      <td>2</td>\n",
       "      <td>dostateczny</td>\n",
       "    </tr>\n",
       "    <tr>\n",
       "      <th>11</th>\n",
       "      <td>Abel Hendricks</td>\n",
       "      <td>racing</td>\n",
       "      <td>python</td>\n",
       "      <td>dfa</td>\n",
       "      <td>bardzo dobry</td>\n",
       "      <td>4</td>\n",
       "      <td>mierny</td>\n",
       "    </tr>\n",
       "  </tbody>\n",
       "</table>\n",
       "</div>"
      ],
      "text/plain": [
       "           full_name     field   language code    task_grade jury_score  \\\n",
       "0   Rowan Harrington    drones     python  wej   dostateczny    3,5 pts   \n",
       "1         Nash Wyatt    racing       java  sfe  bardzo dobry        5 p   \n",
       "2     Jadiel Ramirez     media  cplusplus  vaw         dobry        3.5   \n",
       "3     Makaila Atkins    racing      swift  ugt         dobry          2   \n",
       "4     Melanie Fuller    racing     python  owb  bardzo dobry      pts 2   \n",
       "5      Layla Woodard    drones     python  wuf  bardzo dobry       3,5p   \n",
       "6         Edwin Hale     media      swift  ceq   dostateczny   -1 (dnf)   \n",
       "7       Travis Rocha  robotics  cplusplus  eir   dostateczny          0   \n",
       "8       Ricky Howell     media       java  vos         dobry    waiting   \n",
       "9    Addyson Brennan    drones       java  cov  bardzo dobry          -   \n",
       "10      Megan Barker    drones      swift  oqq   dostateczny          2   \n",
       "11    Abel Hendricks    racing     python  dfa  bardzo dobry          4   \n",
       "\n",
       "       final_grade  \n",
       "0      dostateczny  \n",
       "1           mierny  \n",
       "2           mierny  \n",
       "3      dostateczny  \n",
       "4           mierny  \n",
       "5      dostateczny  \n",
       "6   niedostateczny  \n",
       "7   niedostateczny  \n",
       "8   niedostateczny  \n",
       "9   niedostateczny  \n",
       "10     dostateczny  \n",
       "11          mierny  "
      ]
     },
     "execution_count": 12,
     "metadata": {},
     "output_type": "execute_result"
    }
   ],
   "source": [
    "num_extraction = df.copy()\n",
    "num_extraction.select_dtypes(include='object')"
   ]
  },
  {
   "cell_type": "code",
   "execution_count": 20,
   "id": "793f4369-b842-4349-8e8f-05497f251362",
   "metadata": {},
   "outputs": [],
   "source": [
    "num_extraction_series = num_extraction['jury_score'].str.extract(r\"(-?\\d+[,\\.]?\\d*)\").unstack()"
   ]
  },
  {
   "cell_type": "code",
   "execution_count": 23,
   "id": "1d47a63c-dea8-436f-b8c8-632871ae4c57",
   "metadata": {},
   "outputs": [
    {
     "data": {
      "text/html": [
       "<div>\n",
       "<style scoped>\n",
       "    .dataframe tbody tr th:only-of-type {\n",
       "        vertical-align: middle;\n",
       "    }\n",
       "\n",
       "    .dataframe tbody tr th {\n",
       "        vertical-align: top;\n",
       "    }\n",
       "\n",
       "    .dataframe thead th {\n",
       "        text-align: right;\n",
       "    }\n",
       "</style>\n",
       "<table border=\"1\" class=\"dataframe\">\n",
       "  <thead>\n",
       "    <tr style=\"text-align: right;\">\n",
       "      <th></th>\n",
       "      <th>jury_score</th>\n",
       "    </tr>\n",
       "  </thead>\n",
       "  <tbody>\n",
       "    <tr>\n",
       "      <th>0</th>\n",
       "      <td>3.5</td>\n",
       "    </tr>\n",
       "    <tr>\n",
       "      <th>1</th>\n",
       "      <td>5.0</td>\n",
       "    </tr>\n",
       "    <tr>\n",
       "      <th>2</th>\n",
       "      <td>3.5</td>\n",
       "    </tr>\n",
       "    <tr>\n",
       "      <th>3</th>\n",
       "      <td>2.0</td>\n",
       "    </tr>\n",
       "    <tr>\n",
       "      <th>4</th>\n",
       "      <td>2.0</td>\n",
       "    </tr>\n",
       "    <tr>\n",
       "      <th>5</th>\n",
       "      <td>3.5</td>\n",
       "    </tr>\n",
       "    <tr>\n",
       "      <th>6</th>\n",
       "      <td>-1.0</td>\n",
       "    </tr>\n",
       "    <tr>\n",
       "      <th>7</th>\n",
       "      <td>0.0</td>\n",
       "    </tr>\n",
       "    <tr>\n",
       "      <th>8</th>\n",
       "      <td>NaN</td>\n",
       "    </tr>\n",
       "    <tr>\n",
       "      <th>9</th>\n",
       "      <td>NaN</td>\n",
       "    </tr>\n",
       "    <tr>\n",
       "      <th>10</th>\n",
       "      <td>2.0</td>\n",
       "    </tr>\n",
       "    <tr>\n",
       "      <th>11</th>\n",
       "      <td>4.0</td>\n",
       "    </tr>\n",
       "  </tbody>\n",
       "</table>\n",
       "</div>"
      ],
      "text/plain": [
       "    jury_score\n",
       "0          3.5\n",
       "1          5.0\n",
       "2          3.5\n",
       "3          2.0\n",
       "4          2.0\n",
       "5          3.5\n",
       "6         -1.0\n",
       "7          0.0\n",
       "8          NaN\n",
       "9          NaN\n",
       "10         2.0\n",
       "11         4.0"
      ]
     },
     "execution_count": 23,
     "metadata": {},
     "output_type": "execute_result"
    }
   ],
   "source": [
    "num_extraction_series_df = pd.DataFrame(num_extraction_series)\n",
    "num_extraction_series_df = num_extraction_series_df.reset_index().drop(columns=['level_0', 'level_1'])\n",
    "num_extraction_series_df.rename(columns={0: 'jury_score'}, inplace=True)\n",
    "num_extraction_series_df['jury_score'] = num_extraction_series_df['jury_score'].str.replace(',','.')\n",
    "num_extraction_series_df = num_extraction_series_df.astype(float)\n",
    "num_extraction_series_df"
   ]
  },
  {
   "cell_type": "code",
   "execution_count": 15,
   "id": "4d4185b0-4ab1-4ebb-a21c-2b6bba35a1a2",
   "metadata": {},
   "outputs": [],
   "source": [
    "with open('proj2_ex04.pkl', 'wb') as df_extraction_pickle:\n",
    "    pickle.dump(num_extraction_series_df, df_extraction_pickle)"
   ]
  },
  {
   "cell_type": "code",
   "execution_count": 16,
   "id": "7993d1cb-0df3-4b0e-9676-50b140bb1cb6",
   "metadata": {},
   "outputs": [],
   "source": [
    "df_field = pd.get_dummies(df['field'])\n",
    "df_language = pd.get_dummies(df['language'])"
   ]
  },
  {
   "cell_type": "code",
   "execution_count": 17,
   "id": "7b7560a5-7c2c-43ba-bc16-fca50247a421",
   "metadata": {},
   "outputs": [],
   "source": [
    "with open('proj2_ex05_1.pkl', 'wb') as df_one_hot_field_pickle:\n",
    "    pickle.dump(df_field, df_one_hot_field_pickle)"
   ]
  },
  {
   "cell_type": "code",
   "execution_count": 18,
   "id": "8c093b24-d7de-4707-bbd7-55636fc0aa87",
   "metadata": {},
   "outputs": [],
   "source": [
    "with open('proj2_ex05_2.pkl', 'wb') as df_one_hot_language_pickle:\n",
    "    pickle.dump(df_language, df_one_hot_language_pickle)"
   ]
  }
 ],
 "metadata": {
  "kernelspec": {
   "display_name": "Python 3 (ipykernel)",
   "language": "python",
   "name": "python3"
  },
  "language_info": {
   "codemirror_mode": {
    "name": "ipython",
    "version": 3
   },
   "file_extension": ".py",
   "mimetype": "text/x-python",
   "name": "python",
   "nbconvert_exporter": "python",
   "pygments_lexer": "ipython3",
   "version": "3.10.9"
  }
 },
 "nbformat": 4,
 "nbformat_minor": 5
}
