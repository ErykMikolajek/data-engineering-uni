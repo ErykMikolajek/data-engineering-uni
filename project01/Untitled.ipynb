{
 "cells": [
  {
   "cell_type": "code",
   "execution_count": 1,
   "id": "bb623eb2-2d19-4f78-8e01-21f413a9252b",
   "metadata": {},
   "outputs": [],
   "source": [
    "import pandas as pd\n",
    "df = pd.read_csv('lab1_ex01.csv')"
   ]
  },
  {
   "cell_type": "code",
   "execution_count": 2,
   "id": "3de9a49f-cd97-499f-9e00-9b3f285833ca",
   "metadata": {},
   "outputs": [],
   "source": [
    "import numpy as np\n",
    "df['First column'] = pd.to_numeric(df['First column'], errors='coerce')\n",
    "df['two'] = pd.to_numeric(df['two'], errors='coerce')\n",
    "df['three'] = pd.to_numeric(df['three'], errors='coerce')\n",
    "d = []\n",
    "for (col_name, serie) in df.items():\n",
    "    type_out = 'int' if serie.dtype == 'int64' else ('float' if serie.dtype == 'float64' else 'other')\n",
    "    d.append([col_name, serie.isnull().sum()/serie.size, type_out])"
   ]
  },
  {
   "cell_type": "code",
   "execution_count": 3,
   "id": "dc01c408-8967-4a69-b109-2a1911ed2442",
   "metadata": {},
   "outputs": [],
   "source": [
    "json_df = pd.DataFrame(d, columns=['name', 'missing', 'type'])"
   ]
  },
  {
   "cell_type": "code",
   "execution_count": 4,
   "id": "5f74ff57-d033-48f9-bcf8-f316b052586e",
   "metadata": {},
   "outputs": [],
   "source": [
    "json_dump = json_df.to_json('ex01_fields.json', orient = 'records', indent=4)"
   ]
  },
  {
   "cell_type": "code",
   "execution_count": 5,
   "id": "d3baea6b-a61f-4002-9338-60000e4bf7cc",
   "metadata": {},
   "outputs": [],
   "source": [
    "d2 = {}\n",
    "for (col_name, serie) in df.items():\n",
    "    d2[col_name] = serie.describe()\n",
    "\n",
    "json2_df = pd.DataFrame(d2)"
   ]
  },
  {
   "cell_type": "code",
   "execution_count": 6,
   "id": "53040da9-7121-4d56-9dc0-d5dc7f317740",
   "metadata": {},
   "outputs": [],
   "source": [
    "json2_df.to_json('ex02_stats.json', orient = 'columns', indent=4)"
   ]
  },
  {
   "cell_type": "code",
   "execution_count": 7,
   "id": "763c4797-2fad-421a-9db2-5e0da7fa8f53",
   "metadata": {},
   "outputs": [],
   "source": [
    "import re\n",
    "columns_names = []\n",
    "for column_name in df.columns:\n",
    "    column_name = re.sub('[^A-Za-z0-9_ ]', ' ', column_name)\n",
    "    column_name = column_name.lower()\n",
    "    column_name = re.sub(' $', '', column_name)\n",
    "    column_name = re.sub('[ ]', '_', column_name)\n",
    "    columns_names.append(column_name)\n",
    "df.columns = columns_names\n",
    "\n",
    "df.to_csv('ex03_columns.csv', index=False)"
   ]
  },
  {
   "cell_type": "code",
   "execution_count": 8,
   "id": "99b706f9-0964-43f2-ad85-cec0425968b1",
   "metadata": {},
   "outputs": [],
   "source": [
    "df.to_excel('ex04_excel.xlsx', index=False)"
   ]
  },
  {
   "cell_type": "code",
   "execution_count": 9,
   "id": "00e00eb5-7b2d-437d-a3bb-77c75e480b09",
   "metadata": {},
   "outputs": [],
   "source": [
    "df.to_json('ex04_json.json', orient = 'records', indent=4)"
   ]
  },
  {
   "cell_type": "code",
   "execution_count": 10,
   "id": "8c88a01e-d702-4f53-be8c-024ce83e9527",
   "metadata": {},
   "outputs": [],
   "source": [
    "import pickle\n",
    "with open('ex04_pickle.pkl', 'wb') as pickle_file:\n",
    "    pickle.dump(df, pickle_file)"
   ]
  },
  {
   "cell_type": "code",
   "execution_count": 13,
   "id": "9df70549-b49d-403e-815b-d18f504ec485",
   "metadata": {},
   "outputs": [
    {
     "data": {
      "text/html": [
       "<div>\n",
       "<style scoped>\n",
       "    .dataframe tbody tr th:only-of-type {\n",
       "        vertical-align: middle;\n",
       "    }\n",
       "\n",
       "    .dataframe tbody tr th {\n",
       "        vertical-align: top;\n",
       "    }\n",
       "\n",
       "    .dataframe thead th {\n",
       "        text-align: right;\n",
       "    }\n",
       "</style>\n",
       "<table border=\"1\" class=\"dataframe\">\n",
       "  <thead>\n",
       "    <tr style=\"text-align: right;\">\n",
       "      <th></th>\n",
       "      <th>name</th>\n",
       "      <th>description</th>\n",
       "      <th>age</th>\n",
       "    </tr>\n",
       "  </thead>\n",
       "  <tbody>\n",
       "    <tr>\n",
       "      <th>v</th>\n",
       "      <td>V</td>\n",
       "      <td>Freedom fighter</td>\n",
       "      <td>NaN</td>\n",
       "    </tr>\n",
       "    <tr>\n",
       "      <th>evey</th>\n",
       "      <td>Evey Hammond</td>\n",
       "      <td>Revolutionary</td>\n",
       "      <td>16.0</td>\n",
       "    </tr>\n",
       "    <tr>\n",
       "      <th>finch</th>\n",
       "      <td>Eric Finch</td>\n",
       "      <td>Police detective</td>\n",
       "      <td>40.0</td>\n",
       "    </tr>\n",
       "    <tr>\n",
       "      <th>creedy</th>\n",
       "      <td>Peter Creedy</td>\n",
       "      <td>Government official</td>\n",
       "      <td>49.0</td>\n",
       "    </tr>\n",
       "    <tr>\n",
       "      <th>gordon</th>\n",
       "      <td>Gordon Deitrich</td>\n",
       "      <td>Talk show host</td>\n",
       "      <td>38.0</td>\n",
       "    </tr>\n",
       "    <tr>\n",
       "      <th>valerie</th>\n",
       "      <td>Valerie Page</td>\n",
       "      <td>Actress</td>\n",
       "      <td>NaN</td>\n",
       "    </tr>\n",
       "    <tr>\n",
       "      <th>delia</th>\n",
       "      <td>Delia Surridge</td>\n",
       "      <td>Medical researcher</td>\n",
       "      <td>50.0</td>\n",
       "    </tr>\n",
       "  </tbody>\n",
       "</table>\n",
       "</div>"
      ],
      "text/plain": [
       "                    name          description   age\n",
       "v                      V      Freedom fighter   NaN\n",
       "evey        Evey Hammond        Revolutionary  16.0\n",
       "finch         Eric Finch     Police detective  40.0\n",
       "creedy      Peter Creedy  Government official  49.0\n",
       "gordon   Gordon Deitrich       Talk show host  38.0\n",
       "valerie     Valerie Page              Actress   NaN\n",
       "delia     Delia Surridge   Medical researcher  50.0"
      ]
     },
     "execution_count": 13,
     "metadata": {},
     "output_type": "execute_result"
    }
   ],
   "source": [
    "unpickled_df = pd.read_pickle('lab1_ex05.pkl')  \n",
    "unpickled_df"
   ]
  },
  {
   "cell_type": "code",
   "execution_count": 21,
   "id": "6b148550-a453-4951-ba58-35b3230d4a3b",
   "metadata": {},
   "outputs": [
    {
     "name": "stdout",
     "output_type": "stream",
     "text": [
      "description    Freedom fighter\n",
      "age                        NaN\n",
      "Name: v, dtype: object\n",
      "                 description   age\n",
      "v            Freedom fighter   NaN\n",
      "evey           Revolutionary  16.0\n",
      "finch       Police detective  40.0\n",
      "creedy   Government official  49.0\n",
      "gordon        Talk show host  38.0\n",
      "valerie              Actress   NaN\n",
      "delia     Medical researcher  50.0\n"
     ]
    }
   ],
   "source": [
    "to_markdown_columns = unpickled_df.iloc[:, [1, 2]]\n",
    "#to_markdown_columns = to_markdown_columns.fillna('')\n",
    "to_markdown_columns[to_markdown_columns.iloc[0].str.startswith('v')]\n",
    "to_markdown_columns = to_markdown_columns.loc['v']\n",
    "print(to_markdown_columns)\n",
    "to_markdown_columns.to_markdown('ex05_table.md')\n",
    "#unpickled_df.index.str.startswith('v')\n",
    "#to_markdown_rows = unpickled_df[unpickled_df.iloc[0].str.startswith('v')]\n",
    "#to_markdown_rows"
   ]
  },
  {
   "cell_type": "code",
   "execution_count": 43,
   "id": "308cbdea-e495-4417-b553-2fc1ede0a964",
   "metadata": {},
   "outputs": [
    {
     "data": {
      "text/html": [
       "<div>\n",
       "<style scoped>\n",
       "    .dataframe tbody tr th:only-of-type {\n",
       "        vertical-align: middle;\n",
       "    }\n",
       "\n",
       "    .dataframe tbody tr th {\n",
       "        vertical-align: top;\n",
       "    }\n",
       "\n",
       "    .dataframe thead th {\n",
       "        text-align: right;\n",
       "    }\n",
       "</style>\n",
       "<table border=\"1\" class=\"dataframe\">\n",
       "  <thead>\n",
       "    <tr style=\"text-align: right;\">\n",
       "      <th></th>\n",
       "      <th>brand</th>\n",
       "      <th>model</th>\n",
       "      <th>year</th>\n",
       "      <th>engine.type</th>\n",
       "      <th>engine.displacement</th>\n",
       "      <th>engine.power</th>\n",
       "      <th>engine.environmental.euro</th>\n",
       "      <th>engine.environmental.filter</th>\n",
       "    </tr>\n",
       "  </thead>\n",
       "  <tbody>\n",
       "    <tr>\n",
       "      <th>0</th>\n",
       "      <td>Audi</td>\n",
       "      <td>A3</td>\n",
       "      <td>2022.0</td>\n",
       "      <td>Gasoline</td>\n",
       "      <td>1.4L</td>\n",
       "      <td>150 hp</td>\n",
       "      <td>NaN</td>\n",
       "      <td>NaN</td>\n",
       "    </tr>\n",
       "    <tr>\n",
       "      <th>1</th>\n",
       "      <td>Audi</td>\n",
       "      <td>2023</td>\n",
       "      <td>NaN</td>\n",
       "      <td>Diesel</td>\n",
       "      <td>2.0L</td>\n",
       "      <td>190 hp</td>\n",
       "      <td>6.0</td>\n",
       "      <td>DPF</td>\n",
       "    </tr>\n",
       "    <tr>\n",
       "      <th>2</th>\n",
       "      <td>BMW</td>\n",
       "      <td>3 Series</td>\n",
       "      <td>2022.0</td>\n",
       "      <td>Hybrid</td>\n",
       "      <td>2.0L</td>\n",
       "      <td>288 hp</td>\n",
       "      <td>NaN</td>\n",
       "      <td>NaN</td>\n",
       "    </tr>\n",
       "    <tr>\n",
       "      <th>3</th>\n",
       "      <td>BMW</td>\n",
       "      <td>X7</td>\n",
       "      <td>2023.0</td>\n",
       "      <td>Gasoline</td>\n",
       "      <td>4.4L</td>\n",
       "      <td>456 hp</td>\n",
       "      <td>NaN</td>\n",
       "      <td>NaN</td>\n",
       "    </tr>\n",
       "    <tr>\n",
       "      <th>4</th>\n",
       "      <td>Mercedes-Benz</td>\n",
       "      <td>C-Class</td>\n",
       "      <td>2022.0</td>\n",
       "      <td>Diesel</td>\n",
       "      <td>2.0L</td>\n",
       "      <td>194 hp</td>\n",
       "      <td>NaN</td>\n",
       "      <td>NaN</td>\n",
       "    </tr>\n",
       "    <tr>\n",
       "      <th>5</th>\n",
       "      <td>Mercedes-Benz</td>\n",
       "      <td>GLE</td>\n",
       "      <td>2023.0</td>\n",
       "      <td>Hybrid</td>\n",
       "      <td>3.0L</td>\n",
       "      <td>362 hp</td>\n",
       "      <td>NaN</td>\n",
       "      <td>NaN</td>\n",
       "    </tr>\n",
       "  </tbody>\n",
       "</table>\n",
       "</div>"
      ],
      "text/plain": [
       "           brand     model    year engine.type engine.displacement  \\\n",
       "0           Audi        A3  2022.0    Gasoline                1.4L   \n",
       "1           Audi      2023     NaN      Diesel                2.0L   \n",
       "2            BMW  3 Series  2022.0      Hybrid                2.0L   \n",
       "3            BMW        X7  2023.0    Gasoline                4.4L   \n",
       "4  Mercedes-Benz   C-Class  2022.0      Diesel                2.0L   \n",
       "5  Mercedes-Benz       GLE  2023.0      Hybrid                3.0L   \n",
       "\n",
       "  engine.power  engine.environmental.euro engine.environmental.filter  \n",
       "0       150 hp                        NaN                         NaN  \n",
       "1       190 hp                        6.0                         DPF  \n",
       "2       288 hp                        NaN                         NaN  \n",
       "3       456 hp                        NaN                         NaN  \n",
       "4       194 hp                        NaN                         NaN  \n",
       "5       362 hp                        NaN                         NaN  "
      ]
     },
     "execution_count": 43,
     "metadata": {},
     "output_type": "execute_result"
    }
   ],
   "source": [
    "import json\n",
    "with open('lab1_ex06.json') as json_data:\n",
    "    json_to_normalize = json.load(json_data)\n",
    "json_to_normalize_df = pd.json_normalize(json_to_normalize)"
   ]
  },
  {
   "cell_type": "code",
   "execution_count": 44,
   "id": "3b559709-a93c-4a97-a7b1-ac786cd57415",
   "metadata": {},
   "outputs": [],
   "source": [
    "with open('ex06_pickle.pkl', 'wb') as pickle_json:\n",
    "    pickle.dump(json_to_normalize_df, pickle_json)"
   ]
  }
 ],
 "metadata": {
  "kernelspec": {
   "display_name": "Python 3 (ipykernel)",
   "language": "python",
   "name": "python3"
  },
  "language_info": {
   "codemirror_mode": {
    "name": "ipython",
    "version": 3
   },
   "file_extension": ".py",
   "mimetype": "text/x-python",
   "name": "python",
   "nbconvert_exporter": "python",
   "pygments_lexer": "ipython3",
   "version": "3.10.9"
  }
 },
 "nbformat": 4,
 "nbformat_minor": 5
}
